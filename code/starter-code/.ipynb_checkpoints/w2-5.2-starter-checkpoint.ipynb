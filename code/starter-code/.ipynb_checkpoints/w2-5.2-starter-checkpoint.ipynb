{
 "cells": [
  {
   "cell_type": "code",
   "execution_count": 67,
   "metadata": {
    "button": false,
    "collapsed": false,
    "deletable": true,
    "new_sheet": false,
    "run_control": {
     "read_only": false
    }
   },
   "outputs": [],
   "source": [
    "import pandas as pd\n",
    "import numpy as np\n",
    "import scipy as sp\n",
    "import matplotlib as mpl\n",
    "import matplotlib.pyplot as plt\n",
    "mpl.style.use('ggplot')"
   ]
  },
  {
   "cell_type": "markdown",
   "metadata": {
    "button": false,
    "deletable": true,
    "new_sheet": false,
    "run_control": {
     "read_only": false
    }
   },
   "source": [
    "### The Legion of Evil is the world's #2 most evil organization in the world, but we could be number one!\n",
    "#### Through tough negotiations and uncomfortable silences, we have been granted a meeting with the #1 most evil organization, the Legion of Doom! This is our chance, recruit, to make it to the big time. Let's not fail now!"
   ]
  },
  {
   "cell_type": "markdown",
   "metadata": {
    "button": false,
    "deletable": true,
    "new_sheet": false,
    "run_control": {
     "read_only": false
    }
   },
   "source": [
    "#### Let's start by loading in our database and printing the head"
   ]
  },
  {
   "cell_type": "code",
   "execution_count": 68,
   "metadata": {
    "button": false,
    "collapsed": false,
    "deletable": true,
    "new_sheet": false,
    "run_control": {
     "read_only": false
    }
   },
   "outputs": [
    {
     "name": "stdout",
     "output_type": "stream",
     "text": [
      "   page_id                                 name  \\\n",
      "0     1678            Spider-Man (Peter Parker)   \n",
      "1     7139      Captain America (Steven Rogers)   \n",
      "2    64786  Wolverine (James \\\"Logan\\\" Howlett)   \n",
      "3     1868    Iron Man (Anthony \\\"Tony\\\" Stark)   \n",
      "4     2460                  Thor (Thor Odinson)   \n",
      "\n",
      "                                   urlslug                ID  \\\n",
      "0              \\/Spider-Man_(Peter_Parker)   Secret Identity   \n",
      "1        \\/Captain_America_(Steven_Rogers)   Public Identity   \n",
      "2  \\/Wolverine_(James_%22Logan%22_Howlett)   Public Identity   \n",
      "3    \\/Iron_Man_(Anthony_%22Tony%22_Stark)   Public Identity   \n",
      "4                    \\/Thor_(Thor_Odinson)  No Dual Identity   \n",
      "\n",
      "                ALIGN         EYE        HAIR              SEX  GSM  \\\n",
      "0     Good Characters  Hazel Eyes  Brown Hair  Male Characters  NaN   \n",
      "1     Good Characters   Blue Eyes  White Hair  Male Characters  NaN   \n",
      "2  Neutral Characters   Blue Eyes  Black Hair  Male Characters  NaN   \n",
      "3     Good Characters   Blue Eyes  Black Hair  Male Characters  NaN   \n",
      "4     Good Characters   Blue Eyes  Blond Hair  Male Characters  NaN   \n",
      "\n",
      "               ALIVE  APPEARANCES FIRST APPEARANCE    Year  \n",
      "0  Living Characters       4043.0           Aug-62  1962.0  \n",
      "1  Living Characters       3360.0           Mar-41  1941.0  \n",
      "2  Living Characters       3061.0           Oct-74  1974.0  \n",
      "3  Living Characters       2961.0           Mar-63  1963.0  \n",
      "4  Living Characters       2258.0           Nov-50  1950.0  \n"
     ]
    }
   ],
   "source": [
    "marvel = pd.read_csv(\"../../assets/datasets/marvel.csv\")\n",
    "print marvel.head()"
   ]
  },
  {
   "cell_type": "markdown",
   "metadata": {
    "button": false,
    "collapsed": false,
    "deletable": true,
    "new_sheet": false,
    "run_control": {
     "read_only": false
    }
   },
   "source": [
    "#### We have some extra data from our teams in the field about the comings and goings of our heroes in the list. Let's run this once and continue to the next field"
   ]
  },
  {
   "cell_type": "code",
   "execution_count": 69,
   "metadata": {
    "button": false,
    "collapsed": false,
    "deletable": true,
    "new_sheet": false,
    "run_control": {
     "read_only": false
    },
    "scrolled": false
   },
   "outputs": [
    {
     "name": "stdout",
     "output_type": "stream",
     "text": [
      "['Week: 35', 'Week: 34', 'Week: 33', 'Week: 32', 'Week: 31', 'Week: 30', 'page_id', 'Week: 24', 'Week: 25', 'Week: 26', 'Week: 27', 'Week: 20', 'Week: 21', 'Week: 22', 'Week: 23', 'Week: 28', 'Week: 29', 'Week: 1', 'Week: 3', 'Week: 2', 'Week: 5', 'Week: 4', 'Week: 7', 'Week: 6', 'Week: 9', 'Week: 8', 'Week: 19', 'Week: 18', 'Week: 15', 'Week: 14', 'Week: 17', 'Week: 16', 'Week: 11', 'Week: 10', 'Week: 13', 'Week: 12']\n"
     ]
    }
   ],
   "source": [
    "def randomly(length):\n",
    "    return np.random.randint(0, length, size = 1)[0]\n",
    "\n",
    "def pull_unique(length, arr):\n",
    "    this_rand = randomly(length)\n",
    "    while this_rand in arr:\n",
    "        this_rand = randomly(length)\n",
    "    return this_rand\n",
    "\n",
    "def make_week(number):\n",
    "    return \"Week: \" + str(number)\n",
    "\n",
    "\n",
    "columns = 35\n",
    "weeks = [make_week(x + 1) for x in range(columns)]\n",
    "\n",
    "activity = [\"sleeping\",\"jogging\",\"general tcb(taking care of business)\",\n",
    "            \"goat wrangling\",\"birthday party\",\"hopscotch tournament\",\n",
    "           \"evil fighting\",\"having conflicting emotions about secret identity\",\n",
    "           \"ordering pizza\",\"eating jellybeans\",\"working both sides\",\n",
    "            \"being john malkovich\",\"Netflix and chill\", \"munching on granola\",\n",
    "            \"standing silently on one leg\", \"using powers for good\", \n",
    "            \"extensive pullups\",\"running into walls\",\"creating portals to other dimensions\",\n",
    "           \"being really really evil\", \"insulting children\", \"stealing puppies from orphanages\",\n",
    "           \"masticating\", \"doing magic tricks\", \"understanding the world\", \"Space!!!\"]\n",
    "\n",
    "dicty = {}\n",
    "\n",
    "for week in weeks:\n",
    "    dicty[week] = [activity[randomly(len(activity))] for x in range(len(marvel))]\n",
    "\n",
    "dicty['page_id'] = marvel['page_id']\n",
    "print dicty.keys()"
   ]
  },
  {
   "cell_type": "markdown",
   "metadata": {
    "button": false,
    "deletable": true,
    "new_sheet": false,
    "run_control": {
     "read_only": false
    }
   },
   "source": [
    "#### Let's add our new data to a dataframe and print the head"
   ]
  },
  {
   "cell_type": "code",
   "execution_count": 70,
   "metadata": {
    "button": false,
    "collapsed": false,
    "deletable": true,
    "new_sheet": false,
    "run_control": {
     "read_only": false
    }
   },
   "outputs": [
    {
     "data": {
      "text/html": [
       "<div>\n",
       "<table border=\"1\" class=\"dataframe\">\n",
       "  <thead>\n",
       "    <tr style=\"text-align: right;\">\n",
       "      <th></th>\n",
       "      <th>Week: 1</th>\n",
       "      <th>Week: 10</th>\n",
       "      <th>Week: 11</th>\n",
       "      <th>Week: 12</th>\n",
       "      <th>Week: 13</th>\n",
       "      <th>Week: 14</th>\n",
       "      <th>Week: 15</th>\n",
       "      <th>Week: 16</th>\n",
       "      <th>Week: 17</th>\n",
       "      <th>Week: 18</th>\n",
       "      <th>...</th>\n",
       "      <th>Week: 33</th>\n",
       "      <th>Week: 34</th>\n",
       "      <th>Week: 35</th>\n",
       "      <th>Week: 4</th>\n",
       "      <th>Week: 5</th>\n",
       "      <th>Week: 6</th>\n",
       "      <th>Week: 7</th>\n",
       "      <th>Week: 8</th>\n",
       "      <th>Week: 9</th>\n",
       "      <th>page_id</th>\n",
       "    </tr>\n",
       "  </thead>\n",
       "  <tbody>\n",
       "    <tr>\n",
       "      <th>0</th>\n",
       "      <td>using powers for good</td>\n",
       "      <td>Space!!!</td>\n",
       "      <td>using powers for good</td>\n",
       "      <td>masticating</td>\n",
       "      <td>understanding the world</td>\n",
       "      <td>ordering pizza</td>\n",
       "      <td>being really really evil</td>\n",
       "      <td>having conflicting emotions about secret identity</td>\n",
       "      <td>extensive pullups</td>\n",
       "      <td>creating portals to other dimensions</td>\n",
       "      <td>...</td>\n",
       "      <td>extensive pullups</td>\n",
       "      <td>understanding the world</td>\n",
       "      <td>using powers for good</td>\n",
       "      <td>insulting children</td>\n",
       "      <td>Netflix and chill</td>\n",
       "      <td>Netflix and chill</td>\n",
       "      <td>ordering pizza</td>\n",
       "      <td>eating jellybeans</td>\n",
       "      <td>standing silently on one leg</td>\n",
       "      <td>1678</td>\n",
       "    </tr>\n",
       "    <tr>\n",
       "      <th>1</th>\n",
       "      <td>munching on granola</td>\n",
       "      <td>sleeping</td>\n",
       "      <td>general tcb(taking care of business)</td>\n",
       "      <td>understanding the world</td>\n",
       "      <td>masticating</td>\n",
       "      <td>working both sides</td>\n",
       "      <td>ordering pizza</td>\n",
       "      <td>eating jellybeans</td>\n",
       "      <td>ordering pizza</td>\n",
       "      <td>goat wrangling</td>\n",
       "      <td>...</td>\n",
       "      <td>jogging</td>\n",
       "      <td>working both sides</td>\n",
       "      <td>stealing puppies from orphanages</td>\n",
       "      <td>standing silently on one leg</td>\n",
       "      <td>munching on granola</td>\n",
       "      <td>hopscotch tournament</td>\n",
       "      <td>munching on granola</td>\n",
       "      <td>hopscotch tournament</td>\n",
       "      <td>birthday party</td>\n",
       "      <td>7139</td>\n",
       "    </tr>\n",
       "    <tr>\n",
       "      <th>2</th>\n",
       "      <td>sleeping</td>\n",
       "      <td>munching on granola</td>\n",
       "      <td>being john malkovich</td>\n",
       "      <td>stealing puppies from orphanages</td>\n",
       "      <td>Netflix and chill</td>\n",
       "      <td>stealing puppies from orphanages</td>\n",
       "      <td>masticating</td>\n",
       "      <td>evil fighting</td>\n",
       "      <td>hopscotch tournament</td>\n",
       "      <td>general tcb(taking care of business)</td>\n",
       "      <td>...</td>\n",
       "      <td>using powers for good</td>\n",
       "      <td>ordering pizza</td>\n",
       "      <td>eating jellybeans</td>\n",
       "      <td>being really really evil</td>\n",
       "      <td>running into walls</td>\n",
       "      <td>Space!!!</td>\n",
       "      <td>sleeping</td>\n",
       "      <td>hopscotch tournament</td>\n",
       "      <td>understanding the world</td>\n",
       "      <td>64786</td>\n",
       "    </tr>\n",
       "    <tr>\n",
       "      <th>3</th>\n",
       "      <td>working both sides</td>\n",
       "      <td>creating portals to other dimensions</td>\n",
       "      <td>goat wrangling</td>\n",
       "      <td>being really really evil</td>\n",
       "      <td>using powers for good</td>\n",
       "      <td>being really really evil</td>\n",
       "      <td>ordering pizza</td>\n",
       "      <td>stealing puppies from orphanages</td>\n",
       "      <td>evil fighting</td>\n",
       "      <td>evil fighting</td>\n",
       "      <td>...</td>\n",
       "      <td>standing silently on one leg</td>\n",
       "      <td>goat wrangling</td>\n",
       "      <td>ordering pizza</td>\n",
       "      <td>running into walls</td>\n",
       "      <td>masticating</td>\n",
       "      <td>creating portals to other dimensions</td>\n",
       "      <td>having conflicting emotions about secret identity</td>\n",
       "      <td>evil fighting</td>\n",
       "      <td>birthday party</td>\n",
       "      <td>1868</td>\n",
       "    </tr>\n",
       "    <tr>\n",
       "      <th>4</th>\n",
       "      <td>extensive pullups</td>\n",
       "      <td>eating jellybeans</td>\n",
       "      <td>extensive pullups</td>\n",
       "      <td>birthday party</td>\n",
       "      <td>standing silently on one leg</td>\n",
       "      <td>working both sides</td>\n",
       "      <td>using powers for good</td>\n",
       "      <td>working both sides</td>\n",
       "      <td>stealing puppies from orphanages</td>\n",
       "      <td>running into walls</td>\n",
       "      <td>...</td>\n",
       "      <td>extensive pullups</td>\n",
       "      <td>insulting children</td>\n",
       "      <td>understanding the world</td>\n",
       "      <td>goat wrangling</td>\n",
       "      <td>creating portals to other dimensions</td>\n",
       "      <td>understanding the world</td>\n",
       "      <td>goat wrangling</td>\n",
       "      <td>Netflix and chill</td>\n",
       "      <td>sleeping</td>\n",
       "      <td>2460</td>\n",
       "    </tr>\n",
       "  </tbody>\n",
       "</table>\n",
       "<p>5 rows × 36 columns</p>\n",
       "</div>"
      ],
      "text/plain": [
       "                 Week: 1                              Week: 10  \\\n",
       "0  using powers for good                              Space!!!   \n",
       "1    munching on granola                              sleeping   \n",
       "2               sleeping                   munching on granola   \n",
       "3     working both sides  creating portals to other dimensions   \n",
       "4      extensive pullups                     eating jellybeans   \n",
       "\n",
       "                               Week: 11                          Week: 12  \\\n",
       "0                 using powers for good                       masticating   \n",
       "1  general tcb(taking care of business)           understanding the world   \n",
       "2                  being john malkovich  stealing puppies from orphanages   \n",
       "3                        goat wrangling          being really really evil   \n",
       "4                     extensive pullups                    birthday party   \n",
       "\n",
       "                       Week: 13                          Week: 14  \\\n",
       "0       understanding the world                    ordering pizza   \n",
       "1                   masticating                working both sides   \n",
       "2             Netflix and chill  stealing puppies from orphanages   \n",
       "3         using powers for good          being really really evil   \n",
       "4  standing silently on one leg                working both sides   \n",
       "\n",
       "                   Week: 15  \\\n",
       "0  being really really evil   \n",
       "1            ordering pizza   \n",
       "2               masticating   \n",
       "3            ordering pizza   \n",
       "4     using powers for good   \n",
       "\n",
       "                                            Week: 16  \\\n",
       "0  having conflicting emotions about secret identity   \n",
       "1                                  eating jellybeans   \n",
       "2                                      evil fighting   \n",
       "3                   stealing puppies from orphanages   \n",
       "4                                 working both sides   \n",
       "\n",
       "                           Week: 17                              Week: 18  \\\n",
       "0                 extensive pullups  creating portals to other dimensions   \n",
       "1                    ordering pizza                        goat wrangling   \n",
       "2              hopscotch tournament  general tcb(taking care of business)   \n",
       "3                     evil fighting                         evil fighting   \n",
       "4  stealing puppies from orphanages                    running into walls   \n",
       "\n",
       "    ...                        Week: 33                 Week: 34  \\\n",
       "0   ...               extensive pullups  understanding the world   \n",
       "1   ...                         jogging       working both sides   \n",
       "2   ...           using powers for good           ordering pizza   \n",
       "3   ...    standing silently on one leg           goat wrangling   \n",
       "4   ...               extensive pullups       insulting children   \n",
       "\n",
       "                           Week: 35                       Week: 4  \\\n",
       "0             using powers for good            insulting children   \n",
       "1  stealing puppies from orphanages  standing silently on one leg   \n",
       "2                 eating jellybeans      being really really evil   \n",
       "3                    ordering pizza            running into walls   \n",
       "4           understanding the world                goat wrangling   \n",
       "\n",
       "                                Week: 5                               Week: 6  \\\n",
       "0                     Netflix and chill                     Netflix and chill   \n",
       "1                   munching on granola                  hopscotch tournament   \n",
       "2                    running into walls                              Space!!!   \n",
       "3                           masticating  creating portals to other dimensions   \n",
       "4  creating portals to other dimensions               understanding the world   \n",
       "\n",
       "                                             Week: 7               Week: 8  \\\n",
       "0                                     ordering pizza     eating jellybeans   \n",
       "1                                munching on granola  hopscotch tournament   \n",
       "2                                           sleeping  hopscotch tournament   \n",
       "3  having conflicting emotions about secret identity         evil fighting   \n",
       "4                                     goat wrangling     Netflix and chill   \n",
       "\n",
       "                        Week: 9 page_id  \n",
       "0  standing silently on one leg    1678  \n",
       "1                birthday party    7139  \n",
       "2       understanding the world   64786  \n",
       "3                birthday party    1868  \n",
       "4                      sleeping    2460  \n",
       "\n",
       "[5 rows x 36 columns]"
      ]
     },
     "execution_count": 70,
     "metadata": {},
     "output_type": "execute_result"
    }
   ],
   "source": [
    "df = pd.DataFrame(dicty)\n",
    "df.head()"
   ]
  },
  {
   "cell_type": "markdown",
   "metadata": {
    "button": false,
    "deletable": true,
    "new_sheet": false,
    "run_control": {
     "read_only": false
    }
   },
   "source": [
    "#### Let's merge new this DataFrame with our marvel DataFrame"
   ]
  },
  {
   "cell_type": "code",
   "execution_count": 71,
   "metadata": {
    "button": false,
    "collapsed": false,
    "deletable": true,
    "new_sheet": false,
    "run_control": {
     "read_only": false
    }
   },
   "outputs": [
    {
     "data": {
      "text/html": [
       "<div>\n",
       "<table border=\"1\" class=\"dataframe\">\n",
       "  <thead>\n",
       "    <tr style=\"text-align: right;\">\n",
       "      <th></th>\n",
       "      <th>page_id</th>\n",
       "      <th>name</th>\n",
       "      <th>urlslug</th>\n",
       "      <th>ID</th>\n",
       "      <th>ALIGN</th>\n",
       "      <th>EYE</th>\n",
       "      <th>HAIR</th>\n",
       "      <th>SEX</th>\n",
       "      <th>GSM</th>\n",
       "      <th>ALIVE</th>\n",
       "      <th>...</th>\n",
       "      <th>Week: 32</th>\n",
       "      <th>Week: 33</th>\n",
       "      <th>Week: 34</th>\n",
       "      <th>Week: 35</th>\n",
       "      <th>Week: 4</th>\n",
       "      <th>Week: 5</th>\n",
       "      <th>Week: 6</th>\n",
       "      <th>Week: 7</th>\n",
       "      <th>Week: 8</th>\n",
       "      <th>Week: 9</th>\n",
       "    </tr>\n",
       "  </thead>\n",
       "  <tbody>\n",
       "    <tr>\n",
       "      <th>0</th>\n",
       "      <td>1678</td>\n",
       "      <td>Spider-Man (Peter Parker)</td>\n",
       "      <td>\\/Spider-Man_(Peter_Parker)</td>\n",
       "      <td>Secret Identity</td>\n",
       "      <td>Good Characters</td>\n",
       "      <td>Hazel Eyes</td>\n",
       "      <td>Brown Hair</td>\n",
       "      <td>Male Characters</td>\n",
       "      <td>NaN</td>\n",
       "      <td>Living Characters</td>\n",
       "      <td>...</td>\n",
       "      <td>eating jellybeans</td>\n",
       "      <td>extensive pullups</td>\n",
       "      <td>understanding the world</td>\n",
       "      <td>using powers for good</td>\n",
       "      <td>insulting children</td>\n",
       "      <td>Netflix and chill</td>\n",
       "      <td>Netflix and chill</td>\n",
       "      <td>ordering pizza</td>\n",
       "      <td>eating jellybeans</td>\n",
       "      <td>standing silently on one leg</td>\n",
       "    </tr>\n",
       "    <tr>\n",
       "      <th>1</th>\n",
       "      <td>7139</td>\n",
       "      <td>Captain America (Steven Rogers)</td>\n",
       "      <td>\\/Captain_America_(Steven_Rogers)</td>\n",
       "      <td>Public Identity</td>\n",
       "      <td>Good Characters</td>\n",
       "      <td>Blue Eyes</td>\n",
       "      <td>White Hair</td>\n",
       "      <td>Male Characters</td>\n",
       "      <td>NaN</td>\n",
       "      <td>Living Characters</td>\n",
       "      <td>...</td>\n",
       "      <td>birthday party</td>\n",
       "      <td>jogging</td>\n",
       "      <td>working both sides</td>\n",
       "      <td>stealing puppies from orphanages</td>\n",
       "      <td>standing silently on one leg</td>\n",
       "      <td>munching on granola</td>\n",
       "      <td>hopscotch tournament</td>\n",
       "      <td>munching on granola</td>\n",
       "      <td>hopscotch tournament</td>\n",
       "      <td>birthday party</td>\n",
       "    </tr>\n",
       "    <tr>\n",
       "      <th>2</th>\n",
       "      <td>64786</td>\n",
       "      <td>Wolverine (James \\\"Logan\\\" Howlett)</td>\n",
       "      <td>\\/Wolverine_(James_%22Logan%22_Howlett)</td>\n",
       "      <td>Public Identity</td>\n",
       "      <td>Neutral Characters</td>\n",
       "      <td>Blue Eyes</td>\n",
       "      <td>Black Hair</td>\n",
       "      <td>Male Characters</td>\n",
       "      <td>NaN</td>\n",
       "      <td>Living Characters</td>\n",
       "      <td>...</td>\n",
       "      <td>being john malkovich</td>\n",
       "      <td>using powers for good</td>\n",
       "      <td>ordering pizza</td>\n",
       "      <td>eating jellybeans</td>\n",
       "      <td>being really really evil</td>\n",
       "      <td>running into walls</td>\n",
       "      <td>Space!!!</td>\n",
       "      <td>sleeping</td>\n",
       "      <td>hopscotch tournament</td>\n",
       "      <td>understanding the world</td>\n",
       "    </tr>\n",
       "    <tr>\n",
       "      <th>3</th>\n",
       "      <td>1868</td>\n",
       "      <td>Iron Man (Anthony \\\"Tony\\\" Stark)</td>\n",
       "      <td>\\/Iron_Man_(Anthony_%22Tony%22_Stark)</td>\n",
       "      <td>Public Identity</td>\n",
       "      <td>Good Characters</td>\n",
       "      <td>Blue Eyes</td>\n",
       "      <td>Black Hair</td>\n",
       "      <td>Male Characters</td>\n",
       "      <td>NaN</td>\n",
       "      <td>Living Characters</td>\n",
       "      <td>...</td>\n",
       "      <td>being john malkovich</td>\n",
       "      <td>standing silently on one leg</td>\n",
       "      <td>goat wrangling</td>\n",
       "      <td>ordering pizza</td>\n",
       "      <td>running into walls</td>\n",
       "      <td>masticating</td>\n",
       "      <td>creating portals to other dimensions</td>\n",
       "      <td>having conflicting emotions about secret identity</td>\n",
       "      <td>evil fighting</td>\n",
       "      <td>birthday party</td>\n",
       "    </tr>\n",
       "    <tr>\n",
       "      <th>4</th>\n",
       "      <td>2460</td>\n",
       "      <td>Thor (Thor Odinson)</td>\n",
       "      <td>\\/Thor_(Thor_Odinson)</td>\n",
       "      <td>No Dual Identity</td>\n",
       "      <td>Good Characters</td>\n",
       "      <td>Blue Eyes</td>\n",
       "      <td>Blond Hair</td>\n",
       "      <td>Male Characters</td>\n",
       "      <td>NaN</td>\n",
       "      <td>Living Characters</td>\n",
       "      <td>...</td>\n",
       "      <td>sleeping</td>\n",
       "      <td>extensive pullups</td>\n",
       "      <td>insulting children</td>\n",
       "      <td>understanding the world</td>\n",
       "      <td>goat wrangling</td>\n",
       "      <td>creating portals to other dimensions</td>\n",
       "      <td>understanding the world</td>\n",
       "      <td>goat wrangling</td>\n",
       "      <td>Netflix and chill</td>\n",
       "      <td>sleeping</td>\n",
       "    </tr>\n",
       "  </tbody>\n",
       "</table>\n",
       "<p>5 rows × 48 columns</p>\n",
       "</div>"
      ],
      "text/plain": [
       "   page_id                                 name  \\\n",
       "0     1678            Spider-Man (Peter Parker)   \n",
       "1     7139      Captain America (Steven Rogers)   \n",
       "2    64786  Wolverine (James \\\"Logan\\\" Howlett)   \n",
       "3     1868    Iron Man (Anthony \\\"Tony\\\" Stark)   \n",
       "4     2460                  Thor (Thor Odinson)   \n",
       "\n",
       "                                   urlslug                ID  \\\n",
       "0              \\/Spider-Man_(Peter_Parker)   Secret Identity   \n",
       "1        \\/Captain_America_(Steven_Rogers)   Public Identity   \n",
       "2  \\/Wolverine_(James_%22Logan%22_Howlett)   Public Identity   \n",
       "3    \\/Iron_Man_(Anthony_%22Tony%22_Stark)   Public Identity   \n",
       "4                    \\/Thor_(Thor_Odinson)  No Dual Identity   \n",
       "\n",
       "                ALIGN         EYE        HAIR              SEX  GSM  \\\n",
       "0     Good Characters  Hazel Eyes  Brown Hair  Male Characters  NaN   \n",
       "1     Good Characters   Blue Eyes  White Hair  Male Characters  NaN   \n",
       "2  Neutral Characters   Blue Eyes  Black Hair  Male Characters  NaN   \n",
       "3     Good Characters   Blue Eyes  Black Hair  Male Characters  NaN   \n",
       "4     Good Characters   Blue Eyes  Blond Hair  Male Characters  NaN   \n",
       "\n",
       "               ALIVE              ...                           Week: 32  \\\n",
       "0  Living Characters              ...                  eating jellybeans   \n",
       "1  Living Characters              ...                     birthday party   \n",
       "2  Living Characters              ...               being john malkovich   \n",
       "3  Living Characters              ...               being john malkovich   \n",
       "4  Living Characters              ...                           sleeping   \n",
       "\n",
       "                       Week: 33                 Week: 34  \\\n",
       "0             extensive pullups  understanding the world   \n",
       "1                       jogging       working both sides   \n",
       "2         using powers for good           ordering pizza   \n",
       "3  standing silently on one leg           goat wrangling   \n",
       "4             extensive pullups       insulting children   \n",
       "\n",
       "                           Week: 35                       Week: 4  \\\n",
       "0             using powers for good            insulting children   \n",
       "1  stealing puppies from orphanages  standing silently on one leg   \n",
       "2                 eating jellybeans      being really really evil   \n",
       "3                    ordering pizza            running into walls   \n",
       "4           understanding the world                goat wrangling   \n",
       "\n",
       "                                Week: 5                               Week: 6  \\\n",
       "0                     Netflix and chill                     Netflix and chill   \n",
       "1                   munching on granola                  hopscotch tournament   \n",
       "2                    running into walls                              Space!!!   \n",
       "3                           masticating  creating portals to other dimensions   \n",
       "4  creating portals to other dimensions               understanding the world   \n",
       "\n",
       "                                             Week: 7               Week: 8  \\\n",
       "0                                     ordering pizza     eating jellybeans   \n",
       "1                                munching on granola  hopscotch tournament   \n",
       "2                                           sleeping  hopscotch tournament   \n",
       "3  having conflicting emotions about secret identity         evil fighting   \n",
       "4                                     goat wrangling     Netflix and chill   \n",
       "\n",
       "                        Week: 9  \n",
       "0  standing silently on one leg  \n",
       "1                birthday party  \n",
       "2       understanding the world  \n",
       "3                birthday party  \n",
       "4                      sleeping  \n",
       "\n",
       "[5 rows x 48 columns]"
      ]
     },
     "execution_count": 71,
     "metadata": {},
     "output_type": "execute_result"
    }
   ],
   "source": [
    "merge = pd.merge(marvel,df, how ='inner', on ='page_id')\n",
    "merge.head()"
   ]
  },
  {
   "cell_type": "markdown",
   "metadata": {
    "button": false,
    "deletable": true,
    "new_sheet": false,
    "run_control": {
     "read_only": false
    }
   },
   "source": [
    "#### Let's take a look at our data to see how it came out. General Immortus tells you that \"Ormond Wychwood\" should be in our database, let's print out his data."
   ]
  },
  {
   "cell_type": "code",
   "execution_count": 72,
   "metadata": {
    "button": false,
    "collapsed": false,
    "deletable": true,
    "new_sheet": false,
    "run_control": {
     "read_only": false
    }
   },
   "outputs": [
    {
     "data": {
      "text/html": [
       "<div>\n",
       "<table border=\"1\" class=\"dataframe\">\n",
       "  <thead>\n",
       "    <tr style=\"text-align: right;\">\n",
       "      <th></th>\n",
       "      <th>page_id</th>\n",
       "      <th>name</th>\n",
       "      <th>urlslug</th>\n",
       "      <th>ID</th>\n",
       "      <th>ALIGN</th>\n",
       "      <th>EYE</th>\n",
       "      <th>HAIR</th>\n",
       "      <th>SEX</th>\n",
       "      <th>GSM</th>\n",
       "      <th>ALIVE</th>\n",
       "      <th>...</th>\n",
       "      <th>Week: 32</th>\n",
       "      <th>Week: 33</th>\n",
       "      <th>Week: 34</th>\n",
       "      <th>Week: 35</th>\n",
       "      <th>Week: 4</th>\n",
       "      <th>Week: 5</th>\n",
       "      <th>Week: 6</th>\n",
       "      <th>Week: 7</th>\n",
       "      <th>Week: 8</th>\n",
       "      <th>Week: 9</th>\n",
       "    </tr>\n",
       "  </thead>\n",
       "  <tbody>\n",
       "    <tr>\n",
       "      <th>1016</th>\n",
       "      <td>84720</td>\n",
       "      <td>Ormond Wychwood (Earth-616)</td>\n",
       "      <td>\\/Ormond_Wychwood_(Earth-616)</td>\n",
       "      <td>Secret Identity</td>\n",
       "      <td>Bad Characters</td>\n",
       "      <td>Blue Eyes</td>\n",
       "      <td>Blond Hair</td>\n",
       "      <td>Male Characters</td>\n",
       "      <td>NaN</td>\n",
       "      <td>Living Characters</td>\n",
       "      <td>...</td>\n",
       "      <td>standing silently on one leg</td>\n",
       "      <td>munching on granola</td>\n",
       "      <td>working both sides</td>\n",
       "      <td>goat wrangling</td>\n",
       "      <td>munching on granola</td>\n",
       "      <td>using powers for good</td>\n",
       "      <td>running into walls</td>\n",
       "      <td>standing silently on one leg</td>\n",
       "      <td>extensive pullups</td>\n",
       "      <td>stealing puppies from orphanages</td>\n",
       "    </tr>\n",
       "  </tbody>\n",
       "</table>\n",
       "<p>1 rows × 48 columns</p>\n",
       "</div>"
      ],
      "text/plain": [
       "      page_id                         name                        urlslug  \\\n",
       "1016    84720  Ormond Wychwood (Earth-616)  \\/Ormond_Wychwood_(Earth-616)   \n",
       "\n",
       "                   ID           ALIGN        EYE        HAIR              SEX  \\\n",
       "1016  Secret Identity  Bad Characters  Blue Eyes  Blond Hair  Male Characters   \n",
       "\n",
       "      GSM              ALIVE                ...                 \\\n",
       "1016  NaN  Living Characters                ...                  \n",
       "\n",
       "                          Week: 32             Week: 33            Week: 34  \\\n",
       "1016  standing silently on one leg  munching on granola  working both sides   \n",
       "\n",
       "            Week: 35              Week: 4                Week: 5  \\\n",
       "1016  goat wrangling  munching on granola  using powers for good   \n",
       "\n",
       "                 Week: 6                       Week: 7            Week: 8  \\\n",
       "1016  running into walls  standing silently on one leg  extensive pullups   \n",
       "\n",
       "                               Week: 9  \n",
       "1016  stealing puppies from orphanages  \n",
       "\n",
       "[1 rows x 48 columns]"
      ]
     },
     "execution_count": 72,
     "metadata": {},
     "output_type": "execute_result"
    }
   ],
   "source": [
    "merge.ix[merge['name'] == \"Ormond Wychwood (Earth-616)\"]"
   ]
  },
  {
   "cell_type": "markdown",
   "metadata": {
    "button": false,
    "deletable": true,
    "new_sheet": false,
    "run_control": {
     "read_only": false
    }
   },
   "source": [
    "#### Everything looks good! Next, let's melt our table to find the most popular activity for our heroes by week"
   ]
  },
  {
   "cell_type": "code",
   "execution_count": 73,
   "metadata": {
    "collapsed": false
   },
   "outputs": [],
   "source": [
    "melty = pd.melt(merge, id_vars=merged.ix[:,:'Year'].columns.values, var_name='week', value_name='activity')"
   ]
  },
  {
   "cell_type": "markdown",
   "metadata": {
    "button": false,
    "deletable": true,
    "new_sheet": false,
    "run_control": {
     "read_only": false
    }
   },
   "source": [
    "#### We are concerned about the activities of our valiant evil heroes vs. the unambitious good heroes. Let's print out a pivot table showing the differences. An example table can be found below."
   ]
  },
  {
   "cell_type": "code",
   "execution_count": 74,
   "metadata": {
    "button": false,
    "collapsed": false,
    "deletable": true,
    "new_sheet": false,
    "run_control": {
     "read_only": false
    }
   },
   "outputs": [
    {
     "data": {
      "text/html": [
       "<div>\n",
       "<table border=\"1\" class=\"dataframe\">\n",
       "  <thead>\n",
       "    <tr style=\"text-align: right;\">\n",
       "      <th>activity</th>\n",
       "      <th>Netflix and chill</th>\n",
       "      <th>Space!!!</th>\n",
       "      <th>being john malkovich</th>\n",
       "      <th>being really really evil</th>\n",
       "      <th>birthday party</th>\n",
       "      <th>creating portals to other dimensions</th>\n",
       "      <th>doing magic tricks</th>\n",
       "      <th>eating jellybeans</th>\n",
       "      <th>evil fighting</th>\n",
       "      <th>extensive pullups</th>\n",
       "      <th>...</th>\n",
       "      <th>masticating</th>\n",
       "      <th>munching on granola</th>\n",
       "      <th>ordering pizza</th>\n",
       "      <th>running into walls</th>\n",
       "      <th>sleeping</th>\n",
       "      <th>standing silently on one leg</th>\n",
       "      <th>stealing puppies from orphanages</th>\n",
       "      <th>understanding the world</th>\n",
       "      <th>using powers for good</th>\n",
       "      <th>working both sides</th>\n",
       "    </tr>\n",
       "    <tr>\n",
       "      <th>ALIGN</th>\n",
       "      <th></th>\n",
       "      <th></th>\n",
       "      <th></th>\n",
       "      <th></th>\n",
       "      <th></th>\n",
       "      <th></th>\n",
       "      <th></th>\n",
       "      <th></th>\n",
       "      <th></th>\n",
       "      <th></th>\n",
       "      <th></th>\n",
       "      <th></th>\n",
       "      <th></th>\n",
       "      <th></th>\n",
       "      <th></th>\n",
       "      <th></th>\n",
       "      <th></th>\n",
       "      <th></th>\n",
       "      <th></th>\n",
       "      <th></th>\n",
       "      <th></th>\n",
       "    </tr>\n",
       "  </thead>\n",
       "  <tbody>\n",
       "    <tr>\n",
       "      <th>Bad Characters</th>\n",
       "      <td>9060</td>\n",
       "      <td>8995</td>\n",
       "      <td>9255</td>\n",
       "      <td>9078</td>\n",
       "      <td>8913</td>\n",
       "      <td>8935</td>\n",
       "      <td>8999</td>\n",
       "      <td>9202</td>\n",
       "      <td>9036</td>\n",
       "      <td>9072</td>\n",
       "      <td>...</td>\n",
       "      <td>9017</td>\n",
       "      <td>9027</td>\n",
       "      <td>9010</td>\n",
       "      <td>9142</td>\n",
       "      <td>9039</td>\n",
       "      <td>8985</td>\n",
       "      <td>8875</td>\n",
       "      <td>9078</td>\n",
       "      <td>9170</td>\n",
       "      <td>9097</td>\n",
       "    </tr>\n",
       "    <tr>\n",
       "      <th>Good Characters</th>\n",
       "      <td>6252</td>\n",
       "      <td>6330</td>\n",
       "      <td>6144</td>\n",
       "      <td>6315</td>\n",
       "      <td>6239</td>\n",
       "      <td>6293</td>\n",
       "      <td>6018</td>\n",
       "      <td>6152</td>\n",
       "      <td>6210</td>\n",
       "      <td>6182</td>\n",
       "      <td>...</td>\n",
       "      <td>6144</td>\n",
       "      <td>6275</td>\n",
       "      <td>6272</td>\n",
       "      <td>6251</td>\n",
       "      <td>6205</td>\n",
       "      <td>6314</td>\n",
       "      <td>6231</td>\n",
       "      <td>6389</td>\n",
       "      <td>6103</td>\n",
       "      <td>6247</td>\n",
       "    </tr>\n",
       "    <tr>\n",
       "      <th>Neutral Characters</th>\n",
       "      <td>2961</td>\n",
       "      <td>2966</td>\n",
       "      <td>2891</td>\n",
       "      <td>2885</td>\n",
       "      <td>3028</td>\n",
       "      <td>2993</td>\n",
       "      <td>2951</td>\n",
       "      <td>2985</td>\n",
       "      <td>2982</td>\n",
       "      <td>2949</td>\n",
       "      <td>...</td>\n",
       "      <td>2967</td>\n",
       "      <td>3009</td>\n",
       "      <td>2956</td>\n",
       "      <td>2958</td>\n",
       "      <td>2933</td>\n",
       "      <td>3022</td>\n",
       "      <td>2976</td>\n",
       "      <td>2944</td>\n",
       "      <td>2954</td>\n",
       "      <td>3083</td>\n",
       "    </tr>\n",
       "  </tbody>\n",
       "</table>\n",
       "<p>3 rows × 26 columns</p>\n",
       "</div>"
      ],
      "text/plain": [
       "activity            Netflix and chill  Space!!!  being john malkovich  \\\n",
       "ALIGN                                                                   \n",
       "Bad Characters                   9060      8995                  9255   \n",
       "Good Characters                  6252      6330                  6144   \n",
       "Neutral Characters               2961      2966                  2891   \n",
       "\n",
       "activity            being really really evil  birthday party  \\\n",
       "ALIGN                                                          \n",
       "Bad Characters                          9078            8913   \n",
       "Good Characters                         6315            6239   \n",
       "Neutral Characters                      2885            3028   \n",
       "\n",
       "activity            creating portals to other dimensions  doing magic tricks  \\\n",
       "ALIGN                                                                          \n",
       "Bad Characters                                      8935                8999   \n",
       "Good Characters                                     6293                6018   \n",
       "Neutral Characters                                  2993                2951   \n",
       "\n",
       "activity            eating jellybeans  evil fighting  extensive pullups  \\\n",
       "ALIGN                                                                     \n",
       "Bad Characters                   9202           9036               9072   \n",
       "Good Characters                  6152           6210               6182   \n",
       "Neutral Characters               2985           2982               2949   \n",
       "\n",
       "activity                   ...          masticating  munching on granola  \\\n",
       "ALIGN                      ...                                             \n",
       "Bad Characters             ...                 9017                 9027   \n",
       "Good Characters            ...                 6144                 6275   \n",
       "Neutral Characters         ...                 2967                 3009   \n",
       "\n",
       "activity            ordering pizza  running into walls  sleeping  \\\n",
       "ALIGN                                                              \n",
       "Bad Characters                9010                9142      9039   \n",
       "Good Characters               6272                6251      6205   \n",
       "Neutral Characters            2956                2958      2933   \n",
       "\n",
       "activity            standing silently on one leg  \\\n",
       "ALIGN                                              \n",
       "Bad Characters                              8985   \n",
       "Good Characters                             6314   \n",
       "Neutral Characters                          3022   \n",
       "\n",
       "activity            stealing puppies from orphanages  understanding the world  \\\n",
       "ALIGN                                                                           \n",
       "Bad Characters                                  8875                     9078   \n",
       "Good Characters                                 6231                     6389   \n",
       "Neutral Characters                              2976                     2944   \n",
       "\n",
       "activity            using powers for good  working both sides  \n",
       "ALIGN                                                          \n",
       "Bad Characters                       9170                9097  \n",
       "Good Characters                      6103                6247  \n",
       "Neutral Characters                   2954                3083  \n",
       "\n",
       "[3 rows x 26 columns]"
      ]
     },
     "execution_count": 74,
     "metadata": {},
     "output_type": "execute_result"
    }
   ],
   "source": [
    "# pivot_melted = pd.pivot_table(melted_table[['page_id','ALIGN','activity']],index = ['ALIGN'] , columns=['activity'], values='page_id', aggfunc=len)\n",
    "# pivot_melted\n",
    "#pd.pivot_table(totalDF, index=['name'], values=, aggfunc=np.sum)\n",
    "melty2 = pd.pivot_table(melty[['page_id','ALIGN','activity']], index = ['ALIGN'] , columns=['activity'], values='page_id', aggfunc=len)\n",
    "melty2.head()"
   ]
  },
  {
   "cell_type": "markdown",
   "metadata": {
    "button": false,
    "deletable": true,
    "new_sheet": false,
    "run_control": {
     "read_only": false
    }
   },
   "source": [
    "#### Are our freedom fighters better at being evil on average? Let's make a boxplot of the number of times each character had an evil action against how they are aligned (evil, neutral, good). You can see a sample of the plot we are looking for below this cell."
   ]
  },
  {
   "cell_type": "code",
   "execution_count": 75,
   "metadata": {
    "button": false,
    "collapsed": false,
    "deletable": true,
    "new_sheet": false,
    "run_control": {
     "read_only": false
    }
   },
   "outputs": [],
   "source": [
    "evil_activities = [\"working both sides\",\"creating portals to other dimensions\",\n",
    "           \"being really really evil\", \"insulting children\", \"stealing puppies from orphanages\"]"
   ]
  },
  {
   "cell_type": "code",
   "execution_count": 76,
   "metadata": {
    "collapsed": false
   },
   "outputs": [
    {
     "data": {
      "text/html": [
       "<div>\n",
       "<table border=\"1\" class=\"dataframe\">\n",
       "  <thead>\n",
       "    <tr style=\"text-align: right;\">\n",
       "      <th></th>\n",
       "      <th>page_id</th>\n",
       "      <th>activity</th>\n",
       "      <th>week</th>\n",
       "      <th>ALIGN</th>\n",
       "    </tr>\n",
       "  </thead>\n",
       "  <tbody>\n",
       "    <tr>\n",
       "      <th>3</th>\n",
       "      <td>1868</td>\n",
       "      <td>working both sides</td>\n",
       "      <td>Week: 1</td>\n",
       "      <td>Good Characters</td>\n",
       "    </tr>\n",
       "    <tr>\n",
       "      <th>11</th>\n",
       "      <td>1863</td>\n",
       "      <td>insulting children</td>\n",
       "      <td>Week: 1</td>\n",
       "      <td>Good Characters</td>\n",
       "    </tr>\n",
       "    <tr>\n",
       "      <th>13</th>\n",
       "      <td>2614</td>\n",
       "      <td>insulting children</td>\n",
       "      <td>Week: 1</td>\n",
       "      <td>Good Characters</td>\n",
       "    </tr>\n",
       "    <tr>\n",
       "      <th>14</th>\n",
       "      <td>1803</td>\n",
       "      <td>stealing puppies from orphanages</td>\n",
       "      <td>Week: 1</td>\n",
       "      <td>Good Characters</td>\n",
       "    </tr>\n",
       "    <tr>\n",
       "      <th>21</th>\n",
       "      <td>65255</td>\n",
       "      <td>creating portals to other dimensions</td>\n",
       "      <td>Week: 1</td>\n",
       "      <td>Good Characters</td>\n",
       "    </tr>\n",
       "  </tbody>\n",
       "</table>\n",
       "</div>"
      ],
      "text/plain": [
       "    page_id                              activity     week            ALIGN\n",
       "3      1868                    working both sides  Week: 1  Good Characters\n",
       "11     1863                    insulting children  Week: 1  Good Characters\n",
       "13     2614                    insulting children  Week: 1  Good Characters\n",
       "14     1803      stealing puppies from orphanages  Week: 1  Good Characters\n",
       "21    65255  creating portals to other dimensions  Week: 1  Good Characters"
      ]
     },
     "execution_count": 76,
     "metadata": {},
     "output_type": "execute_result"
    }
   ],
   "source": [
    "# get evil activities\n",
    "info = melty[['page_id','activity','week','ALIGN']]\n",
    "evil_stuff = info[info['activity'].isin(evil_activities)]\n",
    "evil_stuff.head()"
   ]
  },
  {
   "cell_type": "code",
   "execution_count": 77,
   "metadata": {
    "collapsed": false
   },
   "outputs": [
    {
     "data": {
      "image/png": "[encoded data removed]",
      "text/plain": [
       "<matplotlib.figure.Figure at 0x113ecfc10>"
      ]
     },
     "metadata": {},
     "output_type": "display_data"
    }
   ],
   "source": [
    "pivy = pd.pivot_table(evil_stuff[['page_id','ALIGN']],index=[\"page_id\",], columns =['ALIGN'], aggfunc =len)\n",
    "pivy.plot(kind= 'box', subplots = True, sharey = True)\n",
    "plt.show()"
   ]
  },
  {
   "cell_type": "markdown",
   "metadata": {
    "button": false,
    "collapsed": false,
    "deletable": true,
    "new_sheet": false,
    "run_control": {
     "read_only": false
    }
   },
   "source": [
    "#### Now let's make a bar graph with pandas with the averages of the sum totals (evil / all activites) for our alignments. Which alignment on average was the most evil? Don't forget to give your chart a title and label your axis' recruits!"
   ]
  },
  {
   "cell_type": "code",
   "execution_count": 78,
   "metadata": {
    "button": false,
    "collapsed": false,
    "deletable": true,
    "new_sheet": false,
    "run_control": {
     "read_only": false
    }
   },
   "outputs": [
    {
     "data": {
      "image/png": "[encoded data removed]",
      "text/plain": [
       "<matplotlib.figure.Figure at 0x114391ed0>"
      ]
     },
     "metadata": {},
     "output_type": "display_data"
    }
   ],
   "source": [
    "pivy2 = pd.pivot_table(evil_stuff[['activity','ALIGN']],columns=[\"ALIGN\"], aggfunc=len)\n",
    "pivy2.plot(kind= 'bar')\n",
    "plt.title('Evil Deeds by Alignment', fontsize = 16)\n",
    "plt.show()"
   ]
  },
  {
   "cell_type": "code",
   "execution_count": 79,
   "metadata": {
    "collapsed": false
   },
   "outputs": [
    {
     "data": {
      "image/png": "[encoded data removed]",
      "text/plain": [
       "<matplotlib.figure.Figure at 0x110c2fed0>"
      ]
     },
     "metadata": {},
     "output_type": "display_data"
    }
   ],
   "source": [
    "pivy3 = pivy.fillna(0) \n",
    "np.mean(pivy3/35).plot(kind= 'bar')\n",
    "plt.title('% of Evil Deeds by Alignment', fontsize = 12)\n",
    "plt.show()"
   ]
  },
  {
   "cell_type": "markdown",
   "metadata": {
    "button": false,
    "deletable": true,
    "new_sheet": false,
    "run_control": {
     "read_only": false
    }
   },
   "source": [
    "#### Lex Luther ([Enterprising Leader of the Legion Of Doom](https://en.wikipedia.org/wiki/Legion_of_Doom_(DC_Comics)) has contracted you on one last personal project: To engineer a unique, cutting-edge slideshow for the lobby of the Legion of Doom! Here are the steps needed to complete the task.\n",
    "\n",
    "* Replace each of your heroes activities with numbers denoting their alignment\n",
    "    * 1 = good\n",
    "    * -1 = evil\n",
    "    * 0 = neutral (all activities not in good_activity or evil_activity lists)\n",
    "* Pick a random hero from your dataset\n",
    "* Plot his evilness/goodness over time with a line graph\n",
    "* Make sure to print his name at the top of the graph and label your x and y axis!"
   ]
  },
  {
   "cell_type": "code",
   "execution_count": 80,
   "metadata": {
    "button": false,
    "collapsed": false,
    "deletable": true,
    "new_sheet": false,
    "run_control": {
     "read_only": false
    },
    "scrolled": false
   },
   "outputs": [
    {
     "data": {
      "image/png": "[encoded data removed]",
      "text/plain": [
       "<matplotlib.figure.Figure at 0x110c0d510>"
      ]
     },
     "metadata": {},
     "output_type": "display_data"
    }
   ],
   "source": [
    "good_activity = [\"birthday party\",\"evil fighting\",\n",
    "                 \"having conflicting emotions about secret identity\",\n",
    "           \"using powers for good\", \"understanding the world\", \"Space!!!\"]\n",
    "\n",
    "merge2 = merge.ix[merge['name'].str.contains('Wolverine '),'Week: 1':]\n",
    "merge2.columns = merge2.columns.str.replace('Week:','')\n",
    " \n",
    "merge2.replace(good_activity, 1, inplace=True)\n",
    "merge2.replace(evil_activities, -1, inplace=True)\n",
    "neu =[]\n",
    "for i in merge2.ix[2]:\n",
    "    if i != 1 and i != -1:\n",
    "        neu.append(i)\n",
    "        \n",
    "merge2.replace(neu,0,inplace=True)\n",
    "merge2 = np.transpose(merge2)\n",
    "ax = merge2.plot(lw=2,title='Wolverine', figsize=(10, 10))\n",
    "ax.set_xlabel('Time (weeks)')\n",
    "ax.set_ylabel('Good (+) Evil (-)')\n",
    "\n",
    "plt.show()"
   ]
  },
  {
   "cell_type": "markdown",
   "metadata": {
    "button": false,
    "collapsed": true,
    "deletable": true,
    "new_sheet": false,
    "run_control": {
     "read_only": false
    }
   },
   "source": [
    "![Bar](./../../assets/plot_3.png \"Bar\")"
   ]
  }
 ],
 "metadata": {
  "anaconda-cloud": {},
  "kernelspec": {
   "display_name": "Python [default]",
   "language": "python",
   "name": "python2"
  },
  "language_info": {
   "codemirror_mode": {
    "name": "ipython",
    "version": 2
   },
   "file_extension": ".py",
   "mimetype": "text/x-python",
   "name": "python",
   "nbconvert_exporter": "python",
   "pygments_lexer": "ipython2",
   "version": "2.7.12"
  }
 },
 "nbformat": 4,
 "nbformat_minor": 0
}
